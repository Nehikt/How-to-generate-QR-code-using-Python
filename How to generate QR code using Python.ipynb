{
 "cells": [
  {
   "cell_type": "code",
   "execution_count": 1,
   "id": "1d8493ed",
   "metadata": {},
   "outputs": [
    {
     "name": "stdout",
     "output_type": "stream",
     "text": [
      "Collecting pyqrcode\n",
      "  Downloading PyQRCode-1.2.1.zip (41 kB)\n",
      "Building wheels for collected packages: pyqrcode\n",
      "  Building wheel for pyqrcode (setup.py): started\n",
      "  Building wheel for pyqrcode (setup.py): finished with status 'done'\n",
      "  Created wheel for pyqrcode: filename=PyQRCode-1.2.1-py3-none-any.whl size=36245 sha256=d1a94c3945d01968e958ed3f0f665adbdfb9df9aba470983ea44f78ef257aab2\n",
      "  Stored in directory: c:\\users\\91954\\appdata\\local\\pip\\cache\\wheels\\e6\\5e\\b1\\e42b38f43c94593ea57059de7e585c009c0f54e36e1a532992\n",
      "Successfully built pyqrcode\n",
      "Installing collected packages: pyqrcode\n",
      "Successfully installed pyqrcode-1.2.1\n"
     ]
    }
   ],
   "source": [
    "!pip install pyqrcode"
   ]
  },
  {
   "cell_type": "code",
   "execution_count": 2,
   "id": "ab4a0d20",
   "metadata": {},
   "outputs": [
    {
     "name": "stdout",
     "output_type": "stream",
     "text": [
      "Collecting pypng\n",
      "  Downloading pypng-0.0.21-py3-none-any.whl (48 kB)\n",
      "Installing collected packages: pypng\n",
      "Successfully installed pypng-0.0.21\n"
     ]
    }
   ],
   "source": [
    "! pip install pypng"
   ]
  },
  {
   "cell_type": "code",
   "execution_count": 3,
   "id": "e9c8f0b9",
   "metadata": {},
   "outputs": [],
   "source": [
    "import pyqrcode \n",
    "import png \n",
    "from pyqrcode import QRCode \n",
    "  \n",
    "  \n",
    "# String which represents the QR code \n",
    "site = \"https://www.linkedin.com/in/neha-kumari-39163221a/\"\n",
    "  \n",
    "# Generate QR code \n",
    "url_qr = pyqrcode.create(site) \n",
    "  "
   ]
  },
  {
   "cell_type": "code",
   "execution_count": 4,
   "id": "5ca60397",
   "metadata": {},
   "outputs": [],
   "source": [
    "# Create and save the svg file naming \"myqr.svg\" \n",
    "url_qr.svg(\"ne.svg\", scale = 8) \n",
    "  \n",
    "# Create and save the png file naming \"myqr.png\" \n",
    "url_qr.png('ha.png', scale = 6) "
   ]
  }
 ],
 "metadata": {
  "kernelspec": {
   "display_name": "Python 3",
   "language": "python",
   "name": "python3"
  },
  "language_info": {
   "codemirror_mode": {
    "name": "ipython",
    "version": 3
   },
   "file_extension": ".py",
   "mimetype": "text/x-python",
   "name": "python",
   "nbconvert_exporter": "python",
   "pygments_lexer": "ipython3",
   "version": "3.8.8"
  }
 },
 "nbformat": 4,
 "nbformat_minor": 5
}
